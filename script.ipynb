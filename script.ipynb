{
 "cells": [
  {
   "cell_type": "code",
   "execution_count": 1,
   "metadata": {},
   "outputs": [
    {
     "name": "stderr",
     "output_type": "stream",
     "text": [
      "c:\\Users\\Public\\anaconda3\\envs\\SFAI\\lib\\site-packages\\tqdm\\auto.py:21: TqdmWarning: IProgress not found. Please update jupyter and ipywidgets. See https://ipywidgets.readthedocs.io/en/stable/user_install.html\n",
      "  from .autonotebook import tqdm as notebook_tqdm\n"
     ]
    }
   ],
   "source": [
    "# Standard Library Imports\n",
    "import os                       # Operating system functions\n",
    "import subprocess               # Subprocess management\n",
    "import random                   # Random number generation\n",
    "from tqdm import tqdm           # Progress bars\n",
    "\n",
    "# Data Manipulation and Visualization\n",
    "import json                     # JSON data manipulation\n",
    "import inspect                  # Inspection of live objects\n",
    "import pandas as pd              # Data manipulation using DataFrames\n",
    "import numpy as np               # Numerical operations\n",
    "import matplotlib.pyplot as plt  # Plotting\n",
    "import seaborn as sns            # Styling plots\n",
    "\n",
    "# Image Processing\n",
    "from PIL import Image            # Python Imaging Library for image processing\n",
    "\n",
    "# Model Libraries\n",
    "import timm                     # Used for pre-trained models such as EfficientNet, ViT\n",
    "\n",
    "# PyTorch\n",
    "import torch                    # PyTorch overall import\n",
    "import torch.optim as optim     # Optimization of model parameters\n",
    "import torch.nn as nn           # Specification of neural networks\n",
    "from torch.utils.data import Dataset, DataLoader  # Data loading utilities\n",
    "import torchvision.transforms as transforms      # Pre-processing data"
   ]
  },
  {
   "cell_type": "code",
   "execution_count": 2,
   "metadata": {},
   "outputs": [
    {
     "name": "stdout",
     "output_type": "stream",
     "text": [
      "Using Nvidia cuda device.\n"
     ]
    }
   ],
   "source": [
    "if torch.backends.mps.is_available():\n",
    "    print(\"Using apple silicon mps device.\")\n",
    "elif torch.cuda.is_available():\n",
    "    print(\"Using Nvidia cuda device.\")\n",
    "else:\n",
    "    print(\"Using CPU.\")"
   ]
  },
  {
   "cell_type": "markdown",
   "metadata": {},
   "source": [
    "### Define Configuration"
   ]
  },
  {
   "cell_type": "code",
   "execution_count": 3,
   "metadata": {},
   "outputs": [],
   "source": [
    "class Config:\n",
    "    _visualize_data = False\n",
    "\n",
    "    # Reproducibility\n",
    "    SEED = 42\n",
    "\n",
    "    # Model Hyperparameters\n",
    "    model_name = 'vit_large_patch16_224'                 # 'restnet_152', 'efficientnet_{b0, b1, ... , b7}', 'vit_base_path16_224', 'vit_large_patch16_224'\n",
    "    _in_channels = 3                   # RGB images\n",
    "    image_res = 64                     # Must be multiple of 256\n",
    "    num_classes = 200\n",
    "    pretrained_efficient_net = True\n",
    "    # if model_name != 'vit' and model_name != 'resnet152' and int(model_name.split('_b')[-1]) >= 5:\n",
    "    #     pretrained_efficient_net = False\n",
    "    dropout_rate = 0                   # 0, 0.1, 0.5\n",
    "    l2_regularization_strength = 0     # 0, 1e-1, 1e-2, 1e-3, 1e-4, 1e-5, 1e-6, 1e-7\n",
    "    batch_size = 128                   # change batch size to fit memory budget, set to 2 here for contrastive loss\n",
    "    learning_rate = 1e-5               # 1e-1, 1e-2, 1e-3, 1e-4, 1e-5, 1e-6, 1e-7\n",
    "    epochs = 10\n",
    "\n",
    "    # Loss\n",
    "    use_contrastive = False\n",
    "    lambda_contrastive = 10            # 1e-2, 1e-3, 1e-4, 1e-5, 1e-6, 1e-7\n",
    "\n",
    "    # Data Paths\n",
    "    _data_path = os.path.join(os.getcwd(), 'data')\n",
    "    dataset = 'tiny-imagenet-200'\n",
    "    _ds_path = os.path.join(_data_path, dataset)\n",
    "    _data_csv_path = os.path.join(_ds_path, 'tinyimagenet.csv')\n",
    "\n",
    "    # Saving Paths\n",
    "    _result_dir = \"results\"\n",
    "    _weight_dir = \"weights\"\n",
    "    if not os.path.exists(_result_dir):\n",
    "        os.makedirs(_result_dir)\n",
    "    if not os.path.exists(_weight_dir):\n",
    "        os.makedirs(_weight_dir)\n",
    "    \n",
    "    # File Names and Paths\n",
    "    _model_fname = f\"best_{model_name}_lr-{learning_rate}_dropout_rate-{dropout_rate}\"\n",
    "    _save_result_path = os.path.join(_result_dir, _model_fname)\n",
    "    _save_weight_path = os.path.join(_weight_dir, f'{_model_fname}.pth')\n",
    "    _dict = {}\n",
    "\n",
    "config = Config()"
   ]
  },
  {
   "cell_type": "markdown",
   "metadata": {},
   "source": [
    "### Construct Data Frame"
   ]
  },
  {
   "cell_type": "code",
   "execution_count": 4,
   "metadata": {},
   "outputs": [
    {
     "name": "stdout",
     "output_type": "stream",
     "text": [
      "Loading existing data csv file\n"
     ]
    },
    {
     "data": {
      "text/html": [
       "<div>\n",
       "<style scoped>\n",
       "    .dataframe tbody tr th:only-of-type {\n",
       "        vertical-align: middle;\n",
       "    }\n",
       "\n",
       "    .dataframe tbody tr th {\n",
       "        vertical-align: top;\n",
       "    }\n",
       "\n",
       "    .dataframe thead th {\n",
       "        text-align: right;\n",
       "    }\n",
       "</style>\n",
       "<table border=\"1\" class=\"dataframe\">\n",
       "  <thead>\n",
       "    <tr style=\"text-align: right;\">\n",
       "      <th></th>\n",
       "      <th>image_path</th>\n",
       "      <th>set</th>\n",
       "      <th>label</th>\n",
       "      <th>label-description</th>\n",
       "    </tr>\n",
       "  </thead>\n",
       "  <tbody>\n",
       "    <tr>\n",
       "      <th>35112</th>\n",
       "      <td>c:\\Users\\Ciel Sun\\Desktop\\EE 562 AI_For_Engine...</td>\n",
       "      <td>train</td>\n",
       "      <td>n02814533</td>\n",
       "      <td>beach wagon, station wagon, wagon, estate car,...</td>\n",
       "    </tr>\n",
       "    <tr>\n",
       "      <th>66673</th>\n",
       "      <td>c:\\Users\\Ciel Sun\\Desktop\\EE 562 AI_For_Engine...</td>\n",
       "      <td>train</td>\n",
       "      <td>n03977966</td>\n",
       "      <td>police van, police wagon, paddy wagon, patrol ...</td>\n",
       "    </tr>\n",
       "    <tr>\n",
       "      <th>86780</th>\n",
       "      <td>c:\\Users\\Ciel Sun\\Desktop\\EE 562 AI_For_Engine...</td>\n",
       "      <td>train</td>\n",
       "      <td>n04562935</td>\n",
       "      <td>water tower</td>\n",
       "    </tr>\n",
       "    <tr>\n",
       "      <th>90952</th>\n",
       "      <td>c:\\Users\\Ciel Sun\\Desktop\\EE 562 AI_For_Engine...</td>\n",
       "      <td>train</td>\n",
       "      <td>n07695742</td>\n",
       "      <td>pretzel</td>\n",
       "    </tr>\n",
       "    <tr>\n",
       "      <th>16107</th>\n",
       "      <td>c:\\Users\\Ciel Sun\\Desktop\\EE 562 AI_For_Engine...</td>\n",
       "      <td>train</td>\n",
       "      <td>n02124075</td>\n",
       "      <td>Egyptian cat</td>\n",
       "    </tr>\n",
       "  </tbody>\n",
       "</table>\n",
       "</div>"
      ],
      "text/plain": [
       "                                              image_path    set      label  \\\n",
       "35112  c:\\Users\\Ciel Sun\\Desktop\\EE 562 AI_For_Engine...  train  n02814533   \n",
       "66673  c:\\Users\\Ciel Sun\\Desktop\\EE 562 AI_For_Engine...  train  n03977966   \n",
       "86780  c:\\Users\\Ciel Sun\\Desktop\\EE 562 AI_For_Engine...  train  n04562935   \n",
       "90952  c:\\Users\\Ciel Sun\\Desktop\\EE 562 AI_For_Engine...  train  n07695742   \n",
       "16107  c:\\Users\\Ciel Sun\\Desktop\\EE 562 AI_For_Engine...  train  n02124075   \n",
       "\n",
       "                                       label-description  \n",
       "35112  beach wagon, station wagon, wagon, estate car,...  \n",
       "66673  police van, police wagon, paddy wagon, patrol ...  \n",
       "86780                                        water tower  \n",
       "90952                                            pretzel  \n",
       "16107                                       Egyptian cat  "
      ]
     },
     "execution_count": 4,
     "metadata": {},
     "output_type": "execute_result"
    }
   ],
   "source": [
    "if os.path.exists(config._data_csv_path):\n",
    "    print('Loading existing data csv file')\n",
    "    df = pd.read_csv(config._data_csv_path)\n",
    "else:\n",
    "    print('Creating data csv file')\n",
    "    # specify the data path\n",
    "    data_path = config._ds_path\n",
    "\n",
    "    # Specify the words file name\n",
    "    words_file_path = os.path.join(data_path, \"words.txt\")\n",
    "\n",
    "    # Read data from the file\n",
    "    with open(words_file_path, 'r') as file:\n",
    "        words = file.read()\n",
    "\n",
    "    # Split the data into lines\n",
    "    lines = words.split('\\n')\n",
    "\n",
    "    # Construct the dictionary\n",
    "    label2text = {}\n",
    "    for line in lines:\n",
    "        if line:\n",
    "            key, value = line.split(maxsplit=1)\n",
    "            label2text[key] = value\n",
    "\n",
    "    # Print the resulting dictionary\n",
    "    train_dir = os.path.join(data_path, 'train')\n",
    "    val_dir = os.path.join(data_path, 'val')\n",
    "    dirs = {'train': train_dir, 'val': val_dir}\n",
    "\n",
    "    data_list = []\n",
    "    for ds, ds_path in dirs.items():\n",
    "        for label in os.listdir(ds_path):\n",
    "            label_dir = os.path.join(ds_path, label)\n",
    "            if os.path.isdir(label_dir):\n",
    "                for image_path in os.listdir(label_dir):\n",
    "                    if not image_path.split('.')[-1] == 'JPEG':\n",
    "                        continue\n",
    "                    image_path = os.path.join(label_dir, image_path)\n",
    "                    data_list.append({\n",
    "                    'image_path': image_path,\n",
    "                    'set': ds,\n",
    "                    'label': label,\n",
    "                    'label-description': label2text[label]\n",
    "                    })\n",
    "    df = pd.DataFrame(data_list)\n",
    "    df.to_csv(config._data_csv_path, index=False)\n",
    "df.sample(n=5).head()"
   ]
  },
  {
   "cell_type": "markdown",
   "metadata": {},
   "source": [
    "### Investigate Dataset"
   ]
  },
  {
   "cell_type": "code",
   "execution_count": 5,
   "metadata": {},
   "outputs": [],
   "source": [
    "def visualize_ds(df):\n",
    "    # Get basic statistics about the dataset\n",
    "    train_count = df['set'].value_counts().get('train', 0)\n",
    "    val_count = df['set'].value_counts().get('val', 0)\n",
    "    num_unique_labels = df['label'].nunique()\n",
    "    unique_labels = df['label'].unique()\n",
    "    label_counts = df['label'].value_counts()\n",
    "    # Get the counts for the least and most common labels\n",
    "    least_common_count = label_counts.min()\n",
    "    most_common_count = label_counts.max()\n",
    "    imb_ratio = least_common_count / most_common_count\n",
    "    print(\"Count of training images:\", train_count)\n",
    "    print(\"Count of validation images:\", val_count)\n",
    "    print(f\"Total number of images: {train_count + val_count}\")\n",
    "    print(f\"Train test split ratio: {train_count/(train_count + val_count):.1f} :\\\n",
    "    {val_count/(train_count + val_count):.1f}\")\n",
    "    print(f\"{num_unique_labels = }\")\n",
    "\n",
    "    # Plot the distribution of the target classes for both training and validation sets\n",
    "    plt.figure(figsize=(12, 6))\n",
    "\n",
    "    # Training set\n",
    "    plt.subplot(1, 2, 1)\n",
    "    sns.countplot(data=df[df['set'] == 'train'], x='label', order=df['label'].value_counts().index)\n",
    "    plt.title('Distribution of Target Classes (Training Set)')\n",
    "    plt.xlabel('Label')\n",
    "    plt.ylabel('Count')\n",
    "\n",
    "    # Validation set\n",
    "    plt.subplot(1, 2, 2)\n",
    "    sns.countplot(data=df[df['set'] == 'val'], x='label', order=df['label'].value_counts().index)\n",
    "    plt.title('Distribution of Target Classes (Validation Set)')\n",
    "    plt.xlabel('Label')\n",
    "    plt.ylabel('Count')\n",
    "\n",
    "    plt.tight_layout()\n",
    "    plt.show()\n",
    "\n",
    "    print(f\"Class imbalance ratio: {imb_ratio}\")\n",
    "\n",
    "if config._visualize_data: visualize_ds(df)"
   ]
  },
  {
   "cell_type": "markdown",
   "metadata": {},
   "source": [
    "### Data Visualization"
   ]
  },
  {
   "cell_type": "code",
   "execution_count": 6,
   "metadata": {},
   "outputs": [],
   "source": [
    "if config._visualize_data:\n",
    "    random.seed(config.SEED)\n",
    "    random_indices = random.sample(range(len(df)), 4)\n",
    "    # Plot the images with increased spacing\n",
    "    plt.figure(figsize=(7, 7))\n",
    "    for i, index in enumerate(random_indices, 1):\n",
    "        plt.subplot(2, 2, i)\n",
    "        plt.imshow(plt.imread(df['image_path'].iloc[index]))\n",
    "        plt.title(f\"Label: {df['label-description'].iloc[index]}\")\n",
    "\n",
    "    plt.show()"
   ]
  },
  {
   "cell_type": "markdown",
   "metadata": {},
   "source": [
    "### Perform one-hot encoding\n"
   ]
  },
  {
   "cell_type": "code",
   "execution_count": 7,
   "metadata": {},
   "outputs": [],
   "source": [
    "# Perform one-hot encoding on the 'label' column\n",
    "df_one_hot = pd.get_dummies(df[\"label\"], prefix=\"label\").astype(int)\n",
    "\n",
    "# Extract columns from the original DataFrame excluding 'label'\n",
    "exclude_columns = ['label']\n",
    "additional_columns = df[[col for col in df.columns if col not in exclude_columns]]\n",
    "\n",
    "# Concatenate the original DataFrame with the one-hot encoded labels\n",
    "df_combined = pd.concat([df_one_hot, additional_columns], axis=1)"
   ]
  },
  {
   "cell_type": "markdown",
   "metadata": {},
   "source": [
    "### Create a Pytorch Data Loading Pipeline"
   ]
  },
  {
   "cell_type": "code",
   "execution_count": 8,
   "metadata": {},
   "outputs": [],
   "source": [
    "# Custom dataset class for loading images and corresponding labels\n",
    "class CustomDataset(Dataset):\n",
    "    def __init__(self, image_paths, labels, transform=None):\n",
    "        \"\"\"\n",
    "        Args:\n",
    "            image_paths (list): List of file paths to the images.\n",
    "            labels (list): List of corresponding labels.\n",
    "            transform (callable, optional): Optional transform to be applied on an image.\n",
    "        \"\"\"\n",
    "        self.image_paths = image_paths\n",
    "        self.labels = labels\n",
    "        self.transform = transform\n",
    "\n",
    "    def __len__(self):\n",
    "        # Returns the total number of samples in the dataset\n",
    "        return len(self.image_paths)\n",
    "\n",
    "    def __getitem__(self, idx):\n",
    "        \"\"\"\n",
    "        Args:\n",
    "            idx (int): Index of the sample.\n",
    "\n",
    "        Returns:\n",
    "            tuple: (image, label) where image is a PyTorch tensor and label is an integer.\n",
    "        \"\"\"\n",
    "        image_path = self.image_paths[idx]\n",
    "        label = self.labels[idx]\n",
    "\n",
    "        # Read and preprocess the image\n",
    "        with open(image_path, 'rb') as f:\n",
    "            image = Image.open(f).convert('RGB')\n",
    "\n",
    "        if self.transform:\n",
    "            image = self.transform(image)\n",
    "\n",
    "        return image, label"
   ]
  },
  {
   "cell_type": "code",
   "execution_count": 9,
   "metadata": {},
   "outputs": [],
   "source": [
    "train_labels = df_combined[df_combined['set'] == 'train'][[col for col in df_combined.columns if col.startswith(\"label_\")]].values\n",
    "val_labels = df_combined[df_combined['set'] == 'val'][[col for col in df_combined.columns if col.startswith(\"label_\")]].values\n",
    "train_paths = df_combined[df_combined['set'] == 'train']['image_path'].values\n",
    "val_paths = df_combined[df_combined['set'] == 'val']['image_path'].values\n",
    "\n",
    "assert(len(train_labels) == len(train_paths))\n",
    "assert(len(val_labels) == len(val_paths))\n",
    "\n",
    "# Define transformations\n",
    "transform = transforms.Compose([\n",
    "    transforms.Resize((config.image_res, config.image_res)),\n",
    "    # transforms.Resize((512, 512)),\n",
    "    transforms.ToTensor(),\n",
    "    transforms.Normalize(mean=[0.485, 0.456, 0.406], std=[0.229, 0.224, 0.225]),\n",
    "    # TODO: add other transformations...\n",
    "])\n",
    "\n",
    "# Create custom datasets\n",
    "train_dataset = CustomDataset(train_paths, train_labels, transform=transform)\n",
    "val_dataset = CustomDataset(val_paths, val_labels, transform=transform)\n",
    "\n",
    "# Create data loaders\n",
    "train_loader = DataLoader(train_dataset, batch_size=config.batch_size, shuffle=True)\n",
    "val_loader = DataLoader(val_dataset, batch_size=config.batch_size, shuffle=False)"
   ]
  },
  {
   "cell_type": "markdown",
   "metadata": {},
   "source": [
    "### Build Models"
   ]
  },
  {
   "cell_type": "code",
   "execution_count": 10,
   "metadata": {},
   "outputs": [],
   "source": [
    "        # self.emb_ext = nn.Linear(int(65792 * (config.image_res / 256)**2), config.image_res**2)\n"
   ]
  },
  {
   "cell_type": "code",
   "execution_count": 11,
   "metadata": {},
   "outputs": [],
   "source": [
    "class simpleCNN_feat_encoder(nn.Module):\n",
    "    def __init__(self):\n",
    "        super(simpleCNN_feat_encoder, self).__init__()\n",
    "\n",
    "        # Convolutional layers with batch normalization\n",
    "        self.conv1 = nn.Conv2d(3, 64, kernel_size=3, stride=1, padding=1)\n",
    "        self.bn1 = nn.BatchNorm2d(64)\n",
    "        self.relu1 = nn.ReLU()\n",
    "\n",
    "        self.conv2 = nn.Conv2d(64, 128, kernel_size=3, stride=1, padding=1)\n",
    "        self.bn2 = nn.BatchNorm2d(128)\n",
    "        self.relu2 = nn.ReLU()\n",
    "\n",
    "        self.conv3 = nn.Conv2d(128, 256, kernel_size=3, stride=1, padding=1)\n",
    "        self.bn3 = nn.BatchNorm2d(256)\n",
    "        self.relu3 = nn.ReLU()\n",
    "\n",
    "        self.conv4 = nn.Conv2d(256, 64, kernel_size=3, stride=1, padding=1)\n",
    "        self.bn4 = nn.BatchNorm2d(64)\n",
    "        self.relu4 = nn.ReLU()\n",
    "\n",
    "        self.conv5 = nn.Conv2d(64, 3, kernel_size=3, stride=1, padding=1)\n",
    "        self.bn5 = nn.BatchNorm2d(3)\n",
    "        self.relu5 = nn.ReLU()\n",
    "\n",
    "    def forward(self, x):\n",
    "        # Forward pass through convolutional layers\n",
    "        x = self.relu1(self.bn1(self.conv1(x)))\n",
    "        x = self.relu2(self.bn2(self.conv2(x)))\n",
    "        x = self.relu3(self.bn3(self.conv3(x)))\n",
    "        x = self.relu4(self.bn4(self.conv4(x)))\n",
    "        x = self.relu5(self.bn5(self.conv5(x)))\n",
    "\n",
    "        return x\n",
    "\n",
    "class ResNet152(nn.Module):\n",
    "    def __init__(self, in_channels, num_classes, dropout_prob=0.5, isClassifier=True):\n",
    "        \"\"\"\n",
    "        Initializes the ResNet152 model with drop out regularization.\n",
    "\n",
    "        Args:\n",
    "            in_channels (int): Number of input channels.\n",
    "            num_classes (int): Number of output classes.\n",
    "            dropout_prob (float): Dropout probability. Set to 0 to disable dropout.\n",
    "        \"\"\"\n",
    "        super(ResNet152, self).__init__()\n",
    "        self.isClassifier = isClassifier\n",
    "        self.dropout_prob = dropout_prob\n",
    "        self.in_channels = in_channels\n",
    "\n",
    "        # Initial convolution block\n",
    "        self.conv1 = self.conv_block(self.in_channels, 64)\n",
    "        # Downsample with pooling\n",
    "        self.conv2 = self.conv_block(64, 128, pool=True)\n",
    "        # Residual blocks\n",
    "        self.res1 = nn.Sequential(self.conv_block(128, 128),\n",
    "                                  self.conv_block(128, 128))\n",
    "\n",
    "        self.conv3 = self.conv_block(128, 256, pool=True)\n",
    "        self.conv4 = self.conv_block(256, 512, pool=True)\n",
    "        self.res2 = nn.Sequential(self.conv_block(512, 512),\n",
    "                                  self.conv_block(512, 512))\n",
    "\n",
    "        self.conv5 = self.conv_block(512, 1028, pool=True)\n",
    "        self.res3 = nn.Sequential(self.conv_block(1028, 1028),\n",
    "                                  self.conv_block(1028, 1028))\n",
    "\n",
    "        # Embedding extract\n",
    "        # self.emb_ext = ...\n",
    "        self.emb_ext = nn.Linear(int(65792 * (config.image_res / 256)**2), 3 * config.image_res**2)\n",
    "        # Classifier\n",
    "        self.classifier_pre = nn.Sequential(nn.MaxPool2d(2), nn.Flatten())\n",
    "        self.classifier = nn.Linear(int(65792 * (config.image_res / 256)**2), num_classes)\n",
    "\n",
    "    def forward(self, xb):\n",
    "        out = self.conv1(xb)\n",
    "        out = self.conv2(out)\n",
    "        res1_out = self.res1(out) + out\n",
    "\n",
    "        out = self.conv3(res1_out)\n",
    "        out = self.conv4(out)\n",
    "        res2_out = self.res2(out) + out\n",
    "\n",
    "        out = self.conv5(res2_out)\n",
    "        res3_out = self.res3(out) + out\n",
    "        out = self.classifier_pre(res3_out)\n",
    "        if self.isClassifier:\n",
    "            out = self.classifier(out)\n",
    "            return out\n",
    "        else:\n",
    "            emb = self.emb_ext(out)\n",
    "            return emb\n",
    "\n",
    "    def conv_block(self, in_channels, out_channels, pool=False):\n",
    "        \"\"\"\n",
    "        Defines a convolutional block with optional max pooling and dropout.\n",
    "\n",
    "        Args:\n",
    "            in_channels (int): Number of input channels.\n",
    "            out_channels (int): Number of output channels.\n",
    "            pool (bool): Whether to include max pooling after convolution.\n",
    "            dropout_prob (float): Dropout probability. Set to 0 to disable dropout.\n",
    "\n",
    "        Returns:\n",
    "            nn.Sequential: A sequential module representing the convolutional block.\n",
    "        \"\"\"\n",
    "        layers = []\n",
    "        layers.append(nn.Conv2d(in_channels, out_channels, kernel_size=3, padding=1))\n",
    "        layers.append(nn.BatchNorm2d(out_channels))\n",
    "        layers.append(nn.ReLU(inplace=True))\n",
    "\n",
    "        # Add dropout layer with the specified probability\n",
    "        if self.dropout_prob > 0:\n",
    "            layers.append(nn.Dropout2d(p=self.dropout_prob))\n",
    "\n",
    "        if pool:\n",
    "            layers.append(nn.MaxPool2d(2))\n",
    "        return nn.Sequential(*layers)\n",
    "\n",
    "def build_efficientnet(in_channels=3, num_classes=200):\n",
    "    model = timm.create_model(config.model_name, pretrained=config.pretrained_efficient_net, in_chans=in_channels)\n",
    "    # Modify the classifier to match the number of classes\n",
    "    model.classifier = nn.Linear(model.classifier.in_features, num_classes)\n",
    "    return model\n",
    "\n",
    "class CustomViT(nn.Module):\n",
    "    def __init__(self, cfg):\n",
    "        super(CustomViT, self).__init__()\n",
    "        # self.model = timm.create_model('vit_base_patch16_224', pretrained=False, **cfg)\n",
    "        self.model = timm.create_model('vit_large_patch16_224', pretrained=True, **cfg)\n",
    "\n",
    "    def forward(self, x):\n",
    "        return self.model(x)\n",
    "\n",
    "''' # Build a Custom efficientnetb3 model\n",
    "class CustomEfficientNetB3(nn.Module):\n",
    "    def __init__(self, num_classes=200, in_channels=3):\n",
    "        super(CustomEfficientNetB3, self).__init__()\n",
    "\n",
    "        # Load the pretrained EfficientNet-B6 model without the final classifier\n",
    "        # Set pretrained=True if you want to use the weights from ImageNet pretraining\n",
    "        self.base_model = timm.create_model('efficientnet_b3', pretrained=True)\n",
    "\n",
    "\n",
    "        last_layer = nn.Sequential(*list(self.base_model.children()))[-1]\n",
    "        # Remove the final classifier layer\n",
    "        self.base_model = nn.Sequential(*list(self.base_model.children())[:-2])\n",
    "\n",
    "        # Get the number of output channels from the last layer of the base model\n",
    "        last_in_channels = last_layer.in_features\n",
    "\n",
    "\n",
    "        # # Change stride of two Conv2d layers to (1, 1)\n",
    "        # for module in self.base_model.modules():\n",
    "        #     if isinstance(module, nn.Conv2d) and module.stride == (2, 2):\n",
    "        #         module.stride = (1, 1)\n",
    "            \n",
    "        \n",
    "        # Add a custom classification head\n",
    "        self.last = nn.Sequential(\n",
    "            nn.Conv2d(last_in_channels, 3072, kernel_size=1, stride=1, padding=0),\n",
    "        )\n",
    "\n",
    "    def forward(self, x):\n",
    "        x = self.base_model(x)\n",
    "        x = self.last(x)\n",
    "        return x'''"
   ]
  },
  {
   "cell_type": "markdown",
   "metadata": {},
   "source": [
    "### Load Model"
   ]
  },
  {
   "cell_type": "code",
   "execution_count": 12,
   "metadata": {},
   "outputs": [
    {
     "name": "stdout",
     "output_type": "stream",
     "text": [
      "Using CustomEfficientNetB3 as image feature encoder.\n",
      "Training a vit model.\n"
     ]
    }
   ],
   "source": [
    "in_channels = config._in_channels  # Assuming RGB images\n",
    "num_classes = config.num_classes  # Adjust as needed\n",
    "dropout_rate = config.dropout_rate  # Adjust as needed\n",
    "\n",
    "if config.model_name == 'resnet152':\n",
    "    model = ResNet152(in_channels, num_classes, dropout_prob = dropout_rate)\n",
    "elif config.model_name.split('_')[0] == 'efficientnet':\n",
    "    model = build_efficientnet()\n",
    "elif config.model_name == 'vit':\n",
    "    custom_cfg = {\n",
    "    # 'img_size': config.image_res,\n",
    "    'img_size': 64,\n",
    "    'patch_size': 16,            # default 16\n",
    "    'in_chans': config._in_channels,\n",
    "    'num_classes': config.num_classes,\n",
    "    # Add other configuration options as needed\n",
    "    }\n",
    "    model = CustomViT(cfg=custom_cfg)\n",
    "\n",
    "\n",
    "# feat_encoder = ResNet152(in_channels, num_classes, dropout_prob = dropout_rate, isClassifier=False)\n",
    "feat_encoder = CustomEfficientNetB3()\n",
    "print(\"Using CustomEfficientNetB3 as image feature encoder.\")\n",
    "print(f\"Training a {config.model_name} model.\")\n",
    "# print(model)"
   ]
  },
  {
   "cell_type": "markdown",
   "metadata": {},
   "source": [
    "### Helper Functions"
   ]
  },
  {
   "cell_type": "code",
   "execution_count": 13,
   "metadata": {},
   "outputs": [],
   "source": [
    "def accuracy(net, data_loader, task=None):\n",
    "    \"\"\"\n",
    "    For a given data_loader, evaluate the model on the dataset and compute its classification\n",
    "    accuracy.\n",
    "\n",
    "    Args:\n",
    "        net: The neural network to train\n",
    "        data_loader: A dataset loader for some dataset.\n",
    "    Returns:\n",
    "        The classificiation accuracy of the model on this dataset.\n",
    "    \"\"\"\n",
    "    correct = 0\n",
    "    total = 0\n",
    "    # TODO: add tqdm for evaluation loop\n",
    "    # for images, labels in data_loader:\n",
    "    for images, labels in tqdm(data_loader, desc=f\"Evaluating {task} accuracy\", unit=\"batch\", leave=False):\n",
    "        if  torch.cuda.is_available():\n",
    "            net = net.cuda()\n",
    "            images = images.cuda()\n",
    "            labels = labels.cuda()\n",
    "\n",
    "        elif torch.backends.mps.is_available():\n",
    "            mps_device = torch.device(\"mps\")\n",
    "            net.to(mps_device)\n",
    "            images, labels = images.to(mps_device), labels.to(mps_device)\n",
    "\n",
    "        outputs = net(images)                           # Make predictions\n",
    "        _, predicted = torch.max(outputs.data, 1)       # Choose class with highest scores\n",
    "        _, labels = torch.max(labels, 1)\n",
    "\n",
    "        total += labels.size(0)                         # Increment the total count\n",
    "        correct += (predicted == labels).sum().item()   # Increment the correct count\n",
    "    return correct / total\n",
    "\n",
    "def plot_loss(Loss):\n",
    "    plt.figure(figsize=(10,8))\n",
    "    epochs = list(range(1, len(Loss) + 1))\n",
    "    plt.plot(epochs, Loss, label=' Loss')\n",
    "    plt.xlabel('Iter')\n",
    "    plt.ylabel('Loss')\n",
    "    plt.legend()\n",
    "    plt.xlim([1,max(epochs)])\n",
    "    ''' !!!!! Change the plot title every time accordingly, or change the title and then\n",
    "    re-run the plot history function at the end of training !!!!!'''\n",
    "    plt.title(f'Loss records with Epoch={config.epochs}')\n",
    "\n",
    "def plot_history(history):\n",
    "    \"\"\"\n",
    "    Given a series of training/test accuracies from training, plots them to visualize learning.\n",
    "\n",
    "    Args:\n",
    "        history: A dictionary storing information about the model trained.\n",
    "        It should have the keys:\n",
    "            * train_accs: A list of train accuracies\n",
    "            * test_accs: A list of test accuracies.\n",
    "    \"\"\"\n",
    "    plt.figure()\n",
    "    epochs = list(range(1, len(history['train_accs']) + 1))\n",
    "    val = plt.plot(epochs, history['val_accs'],\n",
    "                     '--', label=' Test')\n",
    "    plt.plot(epochs, history['train_accs'], color=val[0].get_color(),\n",
    "               label=' Train')\n",
    "    plt.xlabel('Epochs')\n",
    "    plt.ylabel('Accuracy')\n",
    "    plt.legend()\n",
    "    plt.xlim([1,max(epochs)])\n",
    "    # Force x-axis ticks to be integers\n",
    "    plt.xticks(list(epochs))\n",
    "    plt.title(f'Accuracy results with Epoch={config.epochs}')\n",
    "\n",
    "def save_plot(json_file):\n",
    "    result_folder = \"results\"\n",
    "    if not os.path.exists(result_folder):\n",
    "        os.makedirs(result_folder)\n",
    "    \n",
    "    plt.figure()\n",
    "    # Read JSON data from file\n",
    "    with open(json_file, 'r') as file:\n",
    "        json_data = json.load(file)\n",
    "\n",
    "    # Extracting data\n",
    "    epochs = range(1, json_data[\"Num-Epochs\"] + 1)\n",
    "    train_accs = json_data[\"train_accs\"]\n",
    "    val_accs = json_data[\"val_accs\"]\n",
    "\n",
    "    # Plotting\n",
    "    plt.plot(epochs, train_accs, label='Train Accuracy')\n",
    "    plt.plot(epochs, val_accs, label='Validation Accuracy')\n",
    "    plt.title('Training and Validation Accuracies')\n",
    "    plt.xlabel('Epochs')\n",
    "    plt.ylabel('Accuracy')\n",
    "    plt.legend()\n",
    "    # Set y-axis limit to 1\n",
    "    plt.ylim(0, 1)\n",
    "    # Force x-axis ticks to be integers\n",
    "    plt.xticks(list(epochs))\n",
    "\n",
    "    # Save the plot to a JPG file with the same name as the JSON file\n",
    "    jpg_file = json_file.replace('.json', '.jpg')\n",
    "    plt.savefig(jpg_file)\n",
    "\n",
    "    # Close the plot without displaying it\n",
    "    plt.close()\n",
    "\n",
    "def train_loop(model, train_loader, val_loader, config):\n",
    "    if torch.cuda.is_available():\n",
    "        model = model.cuda()\n",
    "\n",
    "    elif torch.backends.mps.is_available():\n",
    "        mps_device = torch.device(\"mps\")\n",
    "        model.to(mps_device)\n",
    "\n",
    "    classification_criterion = nn.CrossEntropyLoss()\n",
    "    # if config.use_contrastive:\n",
    "    #     contrastive_criterion = ContrastiveLoss()\n",
    "    optimizer = optim.Adam(model.parameters(), lr=config.learning_rate,\n",
    "                          weight_decay=config.l2_regularization_strength)\n",
    "\n",
    "    train_accs = []\n",
    "    val_accs = []\n",
    "    losses = []\n",
    "    best_val_acc = 0.0  # Initialize the best validation accuracy\n",
    "    best_epoch = 0      # Initialize the epoch where the best accuracy occurred\n",
    "\n",
    "    for epoch in range(1, config.epochs + 1):\n",
    "        model.train()\n",
    "        total_batches = len(train_loader)\n",
    "        train_loader_with_progress = tqdm(train_loader, total=total_batches, desc=f'Epoch {epoch}/{config.epochs}')\n",
    "\n",
    "        for inputs, labels in train_loader_with_progress:\n",
    "            if torch.cuda.is_available():\n",
    "                inputs, labels = inputs.cuda(), labels.cuda()\n",
    "\n",
    "            elif torch.backends.mps.is_available():\n",
    "                mps_device = torch.device(\"mps\")\n",
    "                inputs, labels = inputs.to(mps_device), labels.to(mps_device)\n",
    "\n",
    "            optimizer.zero_grad()\n",
    "            outputs = model(inputs)\n",
    "            # print(f'Outputs shape: {outputs.shape}')\n",
    "            # print(f'Labels shape: {labels.shape}')\n",
    "            # print(f'Embeddings shape: {embs.shape}')\n",
    "\n",
    "            # Compute the classification loss\n",
    "            classification_loss = classification_criterion(outputs.float(), labels.float())\n",
    "            total_loss = classification_loss\n",
    "\n",
    "            # # Compute the contrastive loss\n",
    "            # if config.use_contrastive:\n",
    "            #     assert(len(embs) >= 2)\n",
    "            #     positive_emb, negative_emb = embs[0], embs[1]\n",
    "            #     contrastive_labels = labels[1]  # Assuming labels[1] contains the contrastive labels\n",
    "            #     contrastive_loss = contrastive_criterion(positive_emb, negative_emb, contrastive_labels.float(), dist='cosine')\n",
    "\n",
    "            #     # Combine the losses (you can adjust the weights as needed)\n",
    "            #     total_loss += config.lambda_contrastive * contrastive_loss\n",
    "\n",
    "\n",
    "            # continue\n",
    "            total_loss.backward()\n",
    "            optimizer.step()\n",
    "\n",
    "            losses.append(total_loss.item())\n",
    "        # continue\n",
    "        model.eval()\n",
    "        # print(\"Evaluating training accuracy\")\n",
    "        train_acc = accuracy(model, train_loader, task='training')\n",
    "        # print(\"Evaluating validation accuracy\")\n",
    "        val_acc = accuracy(model, val_loader, task='validaiton')\n",
    "        train_accs.append(train_acc)\n",
    "        val_accs.append(val_acc)\n",
    "\n",
    "        print(f'Epoch [{epoch}/{config.epochs}], Train Accuracy: {train_acc:.4f}, Val Accuracy: {val_acc:.4f}, Loss: {total_loss:.4f}')\n",
    "\n",
    "        # Check if the current model has the best validation accuracy\n",
    "        if val_acc > best_val_acc:\n",
    "            best_val_acc = val_acc\n",
    "            best_epoch = epoch\n",
    "\n",
    "            # Save the model weights\n",
    "            torch.save(model.state_dict(), f'{config._save_weight_path}.pth')\n",
    "\n",
    "    print(f'Best Validation Accuracy of {best_val_acc:.4f} achieved at Epoch {best_epoch}')\n",
    "    return train_accs, val_accs, losses\n",
    "\n",
    "\n",
    "def train_loop_with_feat_encoder(feat_encoder, model, train_loader, val_loader, config):\n",
    "    if torch.cuda.is_available():\n",
    "        feat_encoder = feat_encoder.cuda()\n",
    "        model = model.cuda()\n",
    "    elif torch.backends.mps.is_available():\n",
    "        mps_device = torch.device(\"mps\")\n",
    "        feat_encoder.to(mps_device)\n",
    "        model.to(mps_device)\n",
    "\n",
    "    classification_criterion = nn.CrossEntropyLoss()\n",
    "    # if config.use_contrastive:\n",
    "    #     contrastive_criterion = ContrastiveLoss()\n",
    "    optimizer = optim.Adam(model.parameters(), lr=config.learning_rate,\n",
    "                          weight_decay=config.l2_regularization_strength)\n",
    "\n",
    "    train_accs = []\n",
    "    val_accs = []\n",
    "    losses = []\n",
    "    best_val_acc = 0.0  # Initialize the best validation accuracy\n",
    "    best_epoch = 0      # Initialize the epoch where the best accuracy occurred\n",
    "\n",
    "    for epoch in range(1, config.epochs + 1):\n",
    "        model.train()\n",
    "        total_batches = len(train_loader)\n",
    "        train_loader_with_progress = tqdm(train_loader, total=total_batches, desc=f'Epoch {epoch}/{config.epochs}')\n",
    "\n",
    "        for inputs, labels in train_loader_with_progress:\n",
    "            if torch.cuda.is_available():\n",
    "                inputs, labels = inputs.cuda(), labels.cuda()\n",
    "            elif torch.backends.mps.is_available():\n",
    "                mps_device = torch.device(\"mps\")\n",
    "                inputs, labels = inputs.to(mps_device), labels.to(mps_device)\n",
    "\n",
    "            optimizer.zero_grad()\n",
    "\n",
    "            # Get feature embedding of image with CNN, reshape to original image shape\n",
    "            feat_emb = feat_encoder(inputs)\n",
    "            feat_emb = feat_emb.view_as(inputs)\n",
    "            # Classify with ViT\n",
    "            outputs = model(feat_emb)\n",
    "            \n",
    "            # # Check dimensions\n",
    "            # print(f'Outputs shape: {outputs.shape}')\n",
    "            # print(f'Labels shape: {labels.shape}')\n",
    "            # print(f'Inputs shape: {inputs.shape}')\n",
    "\n",
    "            # Compute the classification loss\n",
    "            classification_loss = classification_criterion(outputs.float(), labels.float())\n",
    "            total_loss = classification_loss\n",
    "\n",
    "            # # Compute the contrastive loss\n",
    "            # if config.use_contrastive:\n",
    "            #     assert(len(embs) >= 2)\n",
    "            #     positive_emb, negative_emb = embs[0], embs[1]\n",
    "            #     contrastive_labels = labels[1]  # Assuming labels[1] contains the contrastive labels\n",
    "            #     contrastive_loss = contrastive_criterion(positive_emb, negative_emb, contrastive_labels.float(), dist='cosine')\n",
    "\n",
    "            #     # Combine the losses (you can adjust the weights as needed)\n",
    "            #     total_loss += config.lambda_contrastive * contrastive_loss\n",
    "\n",
    "\n",
    "            # continue\n",
    "            total_loss.backward()\n",
    "            optimizer.step()\n",
    "\n",
    "            losses.append(total_loss.item())\n",
    "        # continue\n",
    "        model.eval()\n",
    "        # print(\"Evaluating training accuracy\")\n",
    "        train_acc = accuracy(model, train_loader, task='training')\n",
    "        # print(\"Evaluating validation accuracy\")\n",
    "        val_acc = accuracy(model, val_loader, task='validaiton')\n",
    "        train_accs.append(train_acc)\n",
    "        val_accs.append(val_acc)\n",
    "\n",
    "        print(f'Epoch [{epoch}/{config.epochs}], Train Accuracy: {train_acc:.4f}, Val Accuracy: {val_acc:.4f}, Loss: {total_loss:.4f}')\n",
    "\n",
    "        # Check if the current model has the best validation accuracy\n",
    "        if val_acc > best_val_acc:\n",
    "            best_val_acc = val_acc\n",
    "            best_epoch = epoch\n",
    "\n",
    "            # Save the model weights\n",
    "            torch.save(model.state_dict(), config._save_weight_path)\n",
    "\n",
    "    print(f'Best Validation Accuracy of {best_val_acc:.4f} achieved at Epoch {best_epoch}')\n",
    "    return train_accs, val_accs, losses\n"
   ]
  },
  {
   "cell_type": "markdown",
   "metadata": {},
   "source": [
    "### Train the model"
   ]
  },
  {
   "cell_type": "code",
   "execution_count": 14,
   "metadata": {},
   "outputs": [
    {
     "name": "stderr",
     "output_type": "stream",
     "text": [
      "Epoch 1/15: 100%|██████████| 782/782 [10:52<00:00,  1.20it/s]\n",
      "                                                                                  \r"
     ]
    },
    {
     "name": "stdout",
     "output_type": "stream",
     "text": [
      "Epoch [1/15], Train Accuracy: 0.7715, Val Accuracy: 0.7004, Loss: 1.2929\n"
     ]
    },
    {
     "name": "stderr",
     "output_type": "stream",
     "text": [
      "Epoch 2/15: 100%|██████████| 782/782 [04:54<00:00,  2.66it/s]\n",
      "                                                                                  \r"
     ]
    },
    {
     "name": "stdout",
     "output_type": "stream",
     "text": [
      "Epoch [2/15], Train Accuracy: 0.9111, Val Accuracy: 0.7455, Loss: 0.3146\n"
     ]
    },
    {
     "name": "stderr",
     "output_type": "stream",
     "text": [
      "Epoch 3/15: 100%|██████████| 782/782 [04:54<00:00,  2.66it/s]\n",
      "                                                                                  \r"
     ]
    },
    {
     "name": "stdout",
     "output_type": "stream",
     "text": [
      "Epoch [3/15], Train Accuracy: 0.9767, Val Accuracy: 0.7523, Loss: 0.3023\n"
     ]
    },
    {
     "name": "stderr",
     "output_type": "stream",
     "text": [
      "Epoch 4/15: 100%|██████████| 782/782 [04:43<00:00,  2.76it/s]\n",
      "                                                                                  \r"
     ]
    },
    {
     "name": "stdout",
     "output_type": "stream",
     "text": [
      "Epoch [4/15], Train Accuracy: 0.9962, Val Accuracy: 0.7545, Loss: 0.0164\n"
     ]
    },
    {
     "name": "stderr",
     "output_type": "stream",
     "text": [
      "Epoch 5/15: 100%|██████████| 782/782 [04:43<00:00,  2.76it/s]\n",
      "                                                                                  \r"
     ]
    },
    {
     "name": "stdout",
     "output_type": "stream",
     "text": [
      "Epoch [5/15], Train Accuracy: 0.9993, Val Accuracy: 0.7583, Loss: 0.0123\n"
     ]
    },
    {
     "name": "stderr",
     "output_type": "stream",
     "text": [
      "Epoch 6/15: 100%|██████████| 782/782 [04:44<00:00,  2.75it/s]\n",
      "                                                                                  \r"
     ]
    },
    {
     "name": "stdout",
     "output_type": "stream",
     "text": [
      "Epoch [6/15], Train Accuracy: 0.9996, Val Accuracy: 0.7614, Loss: 0.0039\n"
     ]
    },
    {
     "name": "stderr",
     "output_type": "stream",
     "text": [
      "Epoch 7/15: 100%|██████████| 782/782 [04:54<00:00,  2.65it/s]\n",
      "                                                                                  \r"
     ]
    },
    {
     "name": "stdout",
     "output_type": "stream",
     "text": [
      "Epoch [7/15], Train Accuracy: 0.9998, Val Accuracy: 0.7612, Loss: 0.0025\n"
     ]
    },
    {
     "name": "stderr",
     "output_type": "stream",
     "text": [
      "Epoch 8/15: 100%|██████████| 782/782 [04:54<00:00,  2.65it/s]\n",
      "                                                                                  \r"
     ]
    },
    {
     "name": "stdout",
     "output_type": "stream",
     "text": [
      "Epoch [8/15], Train Accuracy: 0.9719, Val Accuracy: 0.7260, Loss: 0.0508\n"
     ]
    },
    {
     "name": "stderr",
     "output_type": "stream",
     "text": [
      "Epoch 9/15: 100%|██████████| 782/782 [04:53<00:00,  2.66it/s]\n",
      "                                                                                  \r"
     ]
    },
    {
     "name": "stdout",
     "output_type": "stream",
     "text": [
      "Epoch [9/15], Train Accuracy: 0.9954, Val Accuracy: 0.7507, Loss: 0.0228\n"
     ]
    },
    {
     "name": "stderr",
     "output_type": "stream",
     "text": [
      "Epoch 10/15: 100%|██████████| 782/782 [04:44<00:00,  2.75it/s]\n",
      "                                                                                  \r"
     ]
    },
    {
     "name": "stdout",
     "output_type": "stream",
     "text": [
      "Epoch [10/15], Train Accuracy: 0.9979, Val Accuracy: 0.7521, Loss: 0.0172\n"
     ]
    },
    {
     "name": "stderr",
     "output_type": "stream",
     "text": [
      "Epoch 11/15: 100%|██████████| 782/782 [04:43<00:00,  2.76it/s]\n",
      "                                                                                  \r"
     ]
    },
    {
     "name": "stdout",
     "output_type": "stream",
     "text": [
      "Epoch [11/15], Train Accuracy: 0.9989, Val Accuracy: 0.7545, Loss: 0.0062\n"
     ]
    },
    {
     "name": "stderr",
     "output_type": "stream",
     "text": [
      "Epoch 12/15: 100%|██████████| 782/782 [04:43<00:00,  2.76it/s]\n",
      "                                                                                  \r"
     ]
    },
    {
     "name": "stdout",
     "output_type": "stream",
     "text": [
      "Epoch [12/15], Train Accuracy: 0.9974, Val Accuracy: 0.7528, Loss: 0.0010\n"
     ]
    },
    {
     "name": "stderr",
     "output_type": "stream",
     "text": [
      "Epoch 13/15: 100%|██████████| 782/782 [04:43<00:00,  2.76it/s]\n",
      "                                                                                  \r"
     ]
    },
    {
     "name": "stdout",
     "output_type": "stream",
     "text": [
      "Epoch [13/15], Train Accuracy: 0.9945, Val Accuracy: 0.7434, Loss: 0.0101\n"
     ]
    },
    {
     "name": "stderr",
     "output_type": "stream",
     "text": [
      "Epoch 14/15: 100%|██████████| 782/782 [04:43<00:00,  2.76it/s]\n",
      "                                                                                  \r"
     ]
    },
    {
     "name": "stdout",
     "output_type": "stream",
     "text": [
      "Epoch [14/15], Train Accuracy: 0.9969, Val Accuracy: 0.7541, Loss: 0.0032\n"
     ]
    },
    {
     "name": "stderr",
     "output_type": "stream",
     "text": [
      "Epoch 15/15: 100%|██████████| 782/782 [04:46<00:00,  2.73it/s]\n",
      "                                                                                  "
     ]
    },
    {
     "name": "stdout",
     "output_type": "stream",
     "text": [
      "Epoch [15/15], Train Accuracy: 0.9976, Val Accuracy: 0.7480, Loss: 0.0016\n",
      "Best Validation Accuracy of 0.7614 achieved at Epoch 6\n"
     ]
    },
    {
     "name": "stderr",
     "output_type": "stream",
     "text": [
      "\r"
     ]
    }
   ],
   "source": [
    "train_accs, val_accs, losses = train_loop(model, train_loader, val_loader, config)\n",
    "# train_accs, val_accs, losses = train_loop_with_feat_encoder(feat_encoder, model, train_loader, val_loader, config)"
   ]
  },
  {
   "cell_type": "markdown",
   "metadata": {},
   "source": [
    "### Visualize and Save Results"
   ]
  },
  {
   "cell_type": "code",
   "execution_count": 15,
   "metadata": {},
   "outputs": [
    {
     "data": {
      "image/png": "[encoded data removed]",
      "text/plain": [
       "<Figure size 640x480 with 1 Axes>"
      ]
     },
     "metadata": {},
     "output_type": "display_data"
    },
    {
     "data": {
      "image/png": "[encoded data removed]",
      "text/plain": [
       "<Figure size 1000x800 with 1 Axes>"
      ]
     },
     "metadata": {},
     "output_type": "display_data"
    }
   ],
   "source": [
    "history = {}\n",
    "# Add config values to the history dictionary\n",
    "for i in inspect.getmembers(config):\n",
    "    # to remove private and protected\n",
    "    # functions\n",
    "    if not i[0].startswith('_'):\n",
    "        # To remove other methods that\n",
    "        # doesnot start with a underscore\n",
    "        if not inspect.ismethod(i[1]):\n",
    "            key, value = i\n",
    "            config._dict[key] = value\n",
    "history['config'] = config._dict\n",
    "history['train_accs'] = train_accs\n",
    "history['val_accs'] = val_accs\n",
    "history['Num-Epochs'] = len(history['val_accs'])\n",
    "plot_history(history)\n",
    "plot_loss(losses)\n",
    "\n",
    "# Save json and plot\n",
    "with open(config._save_result_path+\".json\", 'w') as json_file:\n",
    "    json.dump(history, json_file)\n",
    "save_plot(config._save_result_path+\".json\")\n"
   ]
  },
  {
   "cell_type": "code",
   "execution_count": 16,
   "metadata": {},
   "outputs": [
    {
     "data": {
      "text/plain": [
       "{'SEED': 42,\n",
       " 'batch_size': 128,\n",
       " 'dataset': 'tiny-imagenet-200',\n",
       " 'dropout_rate': 0,\n",
       " 'epochs': 15,\n",
       " 'image_res': 64,\n",
       " 'l2_regularization_strength': 0,\n",
       " 'lambda_contrastive': 10,\n",
       " 'learning_rate': 1e-05,\n",
       " 'model_name': 'vit',\n",
       " 'num_classes': 200,\n",
       " 'pretrained_efficient_net': True,\n",
       " 'use_contrastive': False}"
      ]
     },
     "execution_count": 16,
     "metadata": {},
     "output_type": "execute_result"
    }
   ],
   "source": [
    "config._dict"
   ]
  },
  {
   "cell_type": "code",
   "execution_count": null,
   "metadata": {},
   "outputs": [],
   "source": []
  }
 ],
 "metadata": {
  "kernelspec": {
   "display_name": "SFAI",
   "language": "python",
   "name": "python3"
  },
  "language_info": {
   "codemirror_mode": {
    "name": "ipython",
    "version": 3
   },
   "file_extension": ".py",
   "mimetype": "text/x-python",
   "name": "python",
   "nbconvert_exporter": "python",
   "pygments_lexer": "ipython3",
   "version": "3.8.10"
  }
 },
 "nbformat": 4,
 "nbformat_minor": 2
}
